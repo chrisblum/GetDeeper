{
 "cells": [
  {
   "cell_type": "markdown",
   "metadata": {
    "input_collapsed": false
   },
   "source": [
    "# Artificial Neural Networks From Scratch"
   ]
  },
  {
   "cell_type": "code",
   "execution_count": 35,
   "metadata": {
    "collapsed": true,
    "run_control": {
     "breakpoint": false,
     "read_only": false,
     "state": "n"
    }
   },
   "outputs": [],
   "source": [
    "%matplotlib inline"
   ]
  },
  {
   "cell_type": "code",
   "execution_count": 52,
   "metadata": {
    "collapsed": false,
    "run_control": {
     "breakpoint": false,
     "read_only": false,
     "state": "n"
    }
   },
   "outputs": [],
   "source": [
    "import numpy as np\n",
    "import pandas as pd\n",
    "from matplotlib import pyplot as plt\n",
    "\n",
    "import plotly.plotly as py\n",
    "import plotly.tools as tls\n",
    "from plotly.graph_objs import *\n",
    "\n",
    "from scipy import optimize\n",
    "\n",
    "import time\n",
    "import shutil\n",
    "import zipfile\n",
    "import os\n",
    "from mpl_toolkits.mplot3d import Axes3D\n",
    "\n",
    "\n",
    "from urllib import urlretrieve\n",
    "from datetime import datetime\n",
    "from IPython.display import *\n",
    "\n",
    "np.set_printoptions(precision=4)\n",
    "np.set_printoptions(threshold=5)\n",
    "np.set_printoptions(suppress=True)\n",
    "\n",
    "pd.set_option('precision', 3, 'notebook_repr_html', True)\n",
    "\n",
    "plt.rcParams['figure.figsize'] = 12, 8"
   ]
  },
  {
   "cell_type": "markdown",
   "metadata": {},
   "source": [
    "# Get The Data"
   ]
  },
  {
   "cell_type": "markdown",
   "metadata": {},
   "source": [
    "Download the necessary data from the UCI repository."
   ]
  },
  {
   "cell_type": "code",
   "execution_count": 53,
   "metadata": {
    "collapsed": true,
    "run_control": {
     "breakpoint": false,
     "read_only": false,
     "state": "n"
    }
   },
   "outputs": [],
   "source": [
    "def get_dataset(url, data='data'):\n",
    "    \"\"\"\n",
    "    Get's the data set necessary to train the ANN.\n",
    "    \"\"\"\n",
    "    filename = url.rsplit(\"/\")[-1]\n",
    "    \n",
    "    if not os.path.isdir(data): os.mkdir(data)\n",
    "\n",
    "    urlretrieve(url, filename)\n",
    "\n",
    "    compressed = zipfile.ZipFile(filename)\n",
    "    compressed.extractall(data)\n",
    "    compressed.close()\n",
    "    \n",
    "    os.remove(filename)"
   ]
  },
  {
   "cell_type": "code",
   "execution_count": 54,
   "metadata": {
    "collapsed": false,
    "run_control": {
     "breakpoint": false,
     "read_only": false,
     "state": "n"
    }
   },
   "outputs": [],
   "source": [
    "data = 'data'\n",
    "url  = 'http://archive.ics.uci.edu/ml/machine-learning-databases/00320/student.zip'\n",
    "\n",
    "get_dataset(url, data)"
   ]
  },
  {
   "cell_type": "code",
   "execution_count": 55,
   "metadata": {
    "collapsed": false,
    "run_control": {
     "breakpoint": false,
     "read_only": false,
     "state": "n"
    }
   },
   "outputs": [
    {
     "data": {
      "text/html": [
       "<div style=\"max-height:1000px;max-width:1500px;overflow:auto;\">\n",
       "<table border=\"1\" class=\"dataframe\">\n",
       "  <thead>\n",
       "    <tr style=\"text-align: right;\">\n",
       "      <th></th>\n",
       "      <th>school</th>\n",
       "      <th>sex</th>\n",
       "      <th>age</th>\n",
       "      <th>address</th>\n",
       "      <th>famsize</th>\n",
       "      <th>Pstatus</th>\n",
       "      <th>Medu</th>\n",
       "      <th>Fedu</th>\n",
       "      <th>Mjob</th>\n",
       "      <th>Fjob</th>\n",
       "      <th>...</th>\n",
       "      <th>famrel</th>\n",
       "      <th>freetime</th>\n",
       "      <th>goout</th>\n",
       "      <th>Dalc</th>\n",
       "      <th>Walc</th>\n",
       "      <th>health</th>\n",
       "      <th>absences</th>\n",
       "      <th>G1</th>\n",
       "      <th>G2</th>\n",
       "      <th>G3</th>\n",
       "    </tr>\n",
       "  </thead>\n",
       "  <tbody>\n",
       "    <tr>\n",
       "      <th>0</th>\n",
       "      <td>GP</td>\n",
       "      <td>F</td>\n",
       "      <td>18</td>\n",
       "      <td>U</td>\n",
       "      <td>GT3</td>\n",
       "      <td>A</td>\n",
       "      <td>4</td>\n",
       "      <td>4</td>\n",
       "      <td>at_home</td>\n",
       "      <td>teacher</td>\n",
       "      <td>...</td>\n",
       "      <td>4</td>\n",
       "      <td>3</td>\n",
       "      <td>4</td>\n",
       "      <td>1</td>\n",
       "      <td>1</td>\n",
       "      <td>3</td>\n",
       "      <td>6</td>\n",
       "      <td>5</td>\n",
       "      <td>6</td>\n",
       "      <td>6</td>\n",
       "    </tr>\n",
       "    <tr>\n",
       "      <th>1</th>\n",
       "      <td>GP</td>\n",
       "      <td>F</td>\n",
       "      <td>17</td>\n",
       "      <td>U</td>\n",
       "      <td>GT3</td>\n",
       "      <td>T</td>\n",
       "      <td>1</td>\n",
       "      <td>1</td>\n",
       "      <td>at_home</td>\n",
       "      <td>other</td>\n",
       "      <td>...</td>\n",
       "      <td>5</td>\n",
       "      <td>3</td>\n",
       "      <td>3</td>\n",
       "      <td>1</td>\n",
       "      <td>1</td>\n",
       "      <td>3</td>\n",
       "      <td>4</td>\n",
       "      <td>5</td>\n",
       "      <td>5</td>\n",
       "      <td>6</td>\n",
       "    </tr>\n",
       "    <tr>\n",
       "      <th>2</th>\n",
       "      <td>GP</td>\n",
       "      <td>F</td>\n",
       "      <td>15</td>\n",
       "      <td>U</td>\n",
       "      <td>LE3</td>\n",
       "      <td>T</td>\n",
       "      <td>1</td>\n",
       "      <td>1</td>\n",
       "      <td>at_home</td>\n",
       "      <td>other</td>\n",
       "      <td>...</td>\n",
       "      <td>4</td>\n",
       "      <td>3</td>\n",
       "      <td>2</td>\n",
       "      <td>2</td>\n",
       "      <td>3</td>\n",
       "      <td>3</td>\n",
       "      <td>10</td>\n",
       "      <td>7</td>\n",
       "      <td>8</td>\n",
       "      <td>10</td>\n",
       "    </tr>\n",
       "    <tr>\n",
       "      <th>3</th>\n",
       "      <td>GP</td>\n",
       "      <td>F</td>\n",
       "      <td>15</td>\n",
       "      <td>U</td>\n",
       "      <td>GT3</td>\n",
       "      <td>T</td>\n",
       "      <td>4</td>\n",
       "      <td>2</td>\n",
       "      <td>health</td>\n",
       "      <td>services</td>\n",
       "      <td>...</td>\n",
       "      <td>3</td>\n",
       "      <td>2</td>\n",
       "      <td>2</td>\n",
       "      <td>1</td>\n",
       "      <td>1</td>\n",
       "      <td>5</td>\n",
       "      <td>2</td>\n",
       "      <td>15</td>\n",
       "      <td>14</td>\n",
       "      <td>15</td>\n",
       "    </tr>\n",
       "    <tr>\n",
       "      <th>4</th>\n",
       "      <td>GP</td>\n",
       "      <td>F</td>\n",
       "      <td>16</td>\n",
       "      <td>U</td>\n",
       "      <td>GT3</td>\n",
       "      <td>T</td>\n",
       "      <td>3</td>\n",
       "      <td>3</td>\n",
       "      <td>other</td>\n",
       "      <td>other</td>\n",
       "      <td>...</td>\n",
       "      <td>4</td>\n",
       "      <td>3</td>\n",
       "      <td>2</td>\n",
       "      <td>1</td>\n",
       "      <td>2</td>\n",
       "      <td>5</td>\n",
       "      <td>4</td>\n",
       "      <td>6</td>\n",
       "      <td>10</td>\n",
       "      <td>10</td>\n",
       "    </tr>\n",
       "    <tr>\n",
       "      <th>5</th>\n",
       "      <td>GP</td>\n",
       "      <td>M</td>\n",
       "      <td>16</td>\n",
       "      <td>U</td>\n",
       "      <td>LE3</td>\n",
       "      <td>T</td>\n",
       "      <td>4</td>\n",
       "      <td>3</td>\n",
       "      <td>services</td>\n",
       "      <td>other</td>\n",
       "      <td>...</td>\n",
       "      <td>5</td>\n",
       "      <td>4</td>\n",
       "      <td>2</td>\n",
       "      <td>1</td>\n",
       "      <td>2</td>\n",
       "      <td>5</td>\n",
       "      <td>10</td>\n",
       "      <td>15</td>\n",
       "      <td>15</td>\n",
       "      <td>15</td>\n",
       "    </tr>\n",
       "    <tr>\n",
       "      <th>6</th>\n",
       "      <td>GP</td>\n",
       "      <td>M</td>\n",
       "      <td>16</td>\n",
       "      <td>U</td>\n",
       "      <td>LE3</td>\n",
       "      <td>T</td>\n",
       "      <td>2</td>\n",
       "      <td>2</td>\n",
       "      <td>other</td>\n",
       "      <td>other</td>\n",
       "      <td>...</td>\n",
       "      <td>4</td>\n",
       "      <td>4</td>\n",
       "      <td>4</td>\n",
       "      <td>1</td>\n",
       "      <td>1</td>\n",
       "      <td>3</td>\n",
       "      <td>0</td>\n",
       "      <td>12</td>\n",
       "      <td>12</td>\n",
       "      <td>11</td>\n",
       "    </tr>\n",
       "    <tr>\n",
       "      <th>7</th>\n",
       "      <td>GP</td>\n",
       "      <td>F</td>\n",
       "      <td>17</td>\n",
       "      <td>U</td>\n",
       "      <td>GT3</td>\n",
       "      <td>A</td>\n",
       "      <td>4</td>\n",
       "      <td>4</td>\n",
       "      <td>other</td>\n",
       "      <td>teacher</td>\n",
       "      <td>...</td>\n",
       "      <td>4</td>\n",
       "      <td>1</td>\n",
       "      <td>4</td>\n",
       "      <td>1</td>\n",
       "      <td>1</td>\n",
       "      <td>1</td>\n",
       "      <td>6</td>\n",
       "      <td>6</td>\n",
       "      <td>5</td>\n",
       "      <td>6</td>\n",
       "    </tr>\n",
       "    <tr>\n",
       "      <th>8</th>\n",
       "      <td>GP</td>\n",
       "      <td>M</td>\n",
       "      <td>15</td>\n",
       "      <td>U</td>\n",
       "      <td>LE3</td>\n",
       "      <td>A</td>\n",
       "      <td>3</td>\n",
       "      <td>2</td>\n",
       "      <td>services</td>\n",
       "      <td>other</td>\n",
       "      <td>...</td>\n",
       "      <td>4</td>\n",
       "      <td>2</td>\n",
       "      <td>2</td>\n",
       "      <td>1</td>\n",
       "      <td>1</td>\n",
       "      <td>1</td>\n",
       "      <td>0</td>\n",
       "      <td>16</td>\n",
       "      <td>18</td>\n",
       "      <td>19</td>\n",
       "    </tr>\n",
       "    <tr>\n",
       "      <th>9</th>\n",
       "      <td>GP</td>\n",
       "      <td>M</td>\n",
       "      <td>15</td>\n",
       "      <td>U</td>\n",
       "      <td>GT3</td>\n",
       "      <td>T</td>\n",
       "      <td>3</td>\n",
       "      <td>4</td>\n",
       "      <td>other</td>\n",
       "      <td>other</td>\n",
       "      <td>...</td>\n",
       "      <td>5</td>\n",
       "      <td>5</td>\n",
       "      <td>1</td>\n",
       "      <td>1</td>\n",
       "      <td>1</td>\n",
       "      <td>5</td>\n",
       "      <td>0</td>\n",
       "      <td>14</td>\n",
       "      <td>15</td>\n",
       "      <td>15</td>\n",
       "    </tr>\n",
       "  </tbody>\n",
       "</table>\n",
       "<p>10 rows × 33 columns</p>\n",
       "</div>"
      ],
      "text/plain": [
       "  school sex  age address famsize Pstatus  Medu  Fedu      Mjob      Fjob ...  \\\n",
       "0     GP   F   18       U     GT3       A     4     4   at_home   teacher ...   \n",
       "1     GP   F   17       U     GT3       T     1     1   at_home     other ...   \n",
       "2     GP   F   15       U     LE3       T     1     1   at_home     other ...   \n",
       "3     GP   F   15       U     GT3       T     4     2    health  services ...   \n",
       "4     GP   F   16       U     GT3       T     3     3     other     other ...   \n",
       "5     GP   M   16       U     LE3       T     4     3  services     other ...   \n",
       "6     GP   M   16       U     LE3       T     2     2     other     other ...   \n",
       "7     GP   F   17       U     GT3       A     4     4     other   teacher ...   \n",
       "8     GP   M   15       U     LE3       A     3     2  services     other ...   \n",
       "9     GP   M   15       U     GT3       T     3     4     other     other ...   \n",
       "\n",
       "  famrel freetime  goout  Dalc  Walc health absences  G1  G2  G3  \n",
       "0      4        3      4     1     1      3        6   5   6   6  \n",
       "1      5        3      3     1     1      3        4   5   5   6  \n",
       "2      4        3      2     2     3      3       10   7   8  10  \n",
       "3      3        2      2     1     1      5        2  15  14  15  \n",
       "4      4        3      2     1     2      5        4   6  10  10  \n",
       "5      5        4      2     1     2      5       10  15  15  15  \n",
       "6      4        4      4     1     1      3        0  12  12  11  \n",
       "7      4        1      4     1     1      1        6   6   5   6  \n",
       "8      4        2      2     1     1      1        0  16  18  19  \n",
       "9      5        5      1     1     1      5        0  14  15  15  \n",
       "\n",
       "[10 rows x 33 columns]"
      ]
     },
     "execution_count": 55,
     "metadata": {},
     "output_type": "execute_result"
    }
   ],
   "source": [
    "df = pd.read_table('data/student-mat.csv', sep=';', index_col=None)\n",
    "\n",
    "df.head(10)"
   ]
  },
  {
   "cell_type": "markdown",
   "metadata": {},
   "source": [
    "# Artificial Neural Network Implementation"
   ]
  },
  {
   "cell_type": "markdown",
   "metadata": {},
   "source": [
    "## Single Layer Perceptron"
   ]
  },
  {
   "cell_type": "code",
   "execution_count": 56,
   "metadata": {
    "collapsed": false,
    "input_collapsed": true,
    "run_control": {
     "breakpoint": false,
     "read_only": false,
     "state": "n"
    }
   },
   "outputs": [
    {
     "data": {
      "image/svg+xml": [
       "<svg height=\"312pt\" version=\"1.2\" viewBox=\"0 0 397 312\" width=\"397pt\" xmlns=\"http://www.w3.org/2000/svg\" xmlns:xlink=\"http://www.w3.org/1999/xlink\">\n",
       "<defs>\n",
       "<g>\n",
       "<symbol id=\"glyph0-0\" overflow=\"visible\">\n",
       "<path d=\"M 18.25 -3.71875 C 17.28125 -2.4375 16.21875 -1.492188 15.0625 -0.890625 C 13.90625 -0.296875 12.5625 0 11.03125 0 C 8.363281 0 6.15625 -1.050781 4.40625 -3.15625 C 2.664062 -5.257812 1.796875 -7.9375 1.796875 -11.1875 C 1.796875 -14.457031 2.664062 -17.132812 4.40625 -19.21875 C 6.15625 -21.3125 8.363281 -22.359375 11.03125 -22.359375 C 12.5625 -22.359375 13.90625 -22.054688 15.0625 -21.453125 C 16.21875 -20.859375 17.28125 -19.921875 18.25 -18.640625 L 18.25 -21.875 L 25.28125 -21.875 L 25.28125 -2.203125 C 25.28125 1.304688 24.164062 3.988281 21.9375 5.84375 C 19.71875 7.707031 16.5 8.640625 12.28125 8.640625 C 10.914062 8.640625 9.59375 8.535156 8.3125 8.328125 C 7.039062 8.117188 5.757812 7.796875 4.46875 7.359375 L 4.46875 1.921875 C 5.695312 2.617188 6.894531 3.140625 8.0625 3.484375 C 9.238281 3.828125 10.421875 4 11.609375 4 C 13.898438 4 15.578125 3.5 16.640625 2.5 C 17.710938 1.5 18.25 -0.0664062 18.25 -2.203125 Z M 13.640625 -17.328125 C 12.191406 -17.328125 11.0625 -16.789062 10.25 -15.71875 C 9.445312 -14.65625 9.046875 -13.144531 9.046875 -11.1875 C 9.046875 -9.1875 9.4375 -7.664062 10.21875 -6.625 C 11 -5.59375 12.140625 -5.078125 13.640625 -5.078125 C 15.097656 -5.078125 16.226562 -5.609375 17.03125 -6.671875 C 17.84375 -7.742188 18.25 -9.25 18.25 -11.1875 C 18.25 -13.144531 17.84375 -14.65625 17.03125 -15.71875 C 16.226562 -16.789062 15.097656 -17.328125 13.640625 -17.328125 Z M 13.640625 -17.328125 \" style=\"stroke:none;\"/>\n",
       "</symbol>\n",
       "<symbol id=\"glyph0-1\" overflow=\"visible\">\n",
       "<path d=\"M 1.296875 -28.765625 L 26.84375 -28.765625 L 26.84375 -23.59375 L 9.6875 -23.59375 L 21.796875 -11 L 9.65625 2.484375 L 27.875 2.484375 L 27.875 7.671875 L 0.796875 7.671875 L 0.796875 4.3125 L 14.4375 -10.765625 L 1.296875 -24.234375 Z M 1.296875 -28.765625 \" style=\"stroke:none;\"/>\n",
       "</symbol>\n",
       "<symbol id=\"glyph1-0\" overflow=\"visible\">\n",
       "<path d=\"M 1.6875 -21.875 L 5.28125 -21.875 L 9.765625 -4.8125 L 14.234375 -21.875 L 18.484375 -21.875 L 22.96875 -4.8125 L 27.4375 -21.875 L 31.03125 -21.875 L 25.3125 0 L 21.078125 0 L 16.375 -17.9375 L 11.640625 0 L 7.40625 0 Z M 1.6875 -21.875 \" style=\"stroke:none;\"/>\n",
       "</symbol>\n",
       "<symbol id=\"glyph1-1\" overflow=\"visible\">\n",
       "<path d=\"M 21.953125 -21.875 L 14.046875 -11.234375 L 22.359375 0 L 18.125 0 L 11.765625 -8.59375 L 5.390625 0 L 1.15625 0 L 9.65625 -11.453125 L 1.875 -21.875 L 6.109375 -21.875 L 11.921875 -14.078125 L 17.71875 -21.875 Z M 21.953125 -21.875 \" style=\"stroke:none;\"/>\n",
       "</symbol>\n",
       "<symbol id=\"glyph1-2\" overflow=\"visible\">\n",
       "<path d=\"M 12.875 2.03125 C 11.851562 4.632812 10.859375 6.332031 9.890625 7.125 C 8.929688 7.925781 7.644531 8.328125 6.03125 8.328125 L 3.171875 8.328125 L 3.171875 5.3125 L 5.28125 5.3125 C 6.269531 5.3125 7.035156 5.078125 7.578125 4.609375 C 8.128906 4.140625 8.734375 3.035156 9.390625 1.296875 L 10.046875 -0.359375 L 1.1875 -21.875 L 5 -21.875 L 11.84375 -4.765625 L 18.671875 -21.875 L 22.484375 -21.875 Z M 12.875 2.03125 \" style=\"stroke:none;\"/>\n",
       "</symbol>\n",
       "<symbol id=\"glyph2-0\" overflow=\"visible\">\n",
       "<path d=\"M 1.703125 -9.84375 L 3.3125 -9.84375 L 3.3125 0.171875 C 3.3125 1.429688 3.070312 2.34375 2.59375 2.90625 C 2.113281 3.46875 1.347656 3.75 0.296875 3.75 L -0.328125 3.75 L -0.328125 2.375 L 0.109375 2.375 C 0.722656 2.375 1.140625 2.226562 1.359375 1.9375 C 1.585938 1.65625 1.703125 1.066406 1.703125 0.171875 Z M 1.703125 -13.671875 L 3.3125 -13.671875 L 3.3125 -11.625 L 1.703125 -11.625 Z M 1.703125 -13.671875 \" style=\"stroke:none;\"/>\n",
       "</symbol>\n",
       "<symbol id=\"glyph2-1\" overflow=\"visible\">\n",
       "<path d=\"M 1.703125 -9.84375 L 3.3125 -9.84375 L 3.3125 0 L 1.703125 0 Z M 1.703125 -13.671875 L 3.3125 -13.671875 L 3.3125 -11.625 L 1.703125 -11.625 Z M 1.703125 -13.671875 \" style=\"stroke:none;\"/>\n",
       "</symbol>\n",
       "<symbol id=\"glyph2-2\" overflow=\"visible\">\n",
       "<path d=\"M 0.875 -5.65625 L 5.609375 -5.65625 L 5.609375 -4.203125 L 0.875 -4.203125 Z M 0.875 -5.65625 \" style=\"stroke:none;\"/>\n",
       "</symbol>\n",
       "<symbol id=\"glyph2-3\" overflow=\"visible\">\n",
       "<path d=\"M 2.234375 -1.5 L 5.140625 -1.5 L 5.140625 -11.5 L 1.984375 -10.875 L 1.984375 -12.484375 L 5.109375 -13.125 L 6.890625 -13.125 L 6.890625 -1.5 L 9.796875 -1.5 L 9.796875 0 L 2.234375 0 Z M 2.234375 -1.5 \" style=\"stroke:none;\"/>\n",
       "</symbol>\n",
       "<symbol id=\"glyph2-4\" overflow=\"visible\">\n",
       "<path d=\"M 8.28125 -11.28125 L 8.28125 -6.390625 L 13.171875 -6.390625 L 13.171875 -4.890625 L 8.28125 -4.890625 L 8.28125 0 L 6.796875 0 L 6.796875 -4.890625 L 1.90625 -4.890625 L 1.90625 -6.390625 L 6.796875 -6.390625 L 6.796875 -11.28125 Z M 8.28125 -11.28125 \" style=\"stroke:none;\"/>\n",
       "</symbol>\n",
       "</g>\n",
       "</defs>\n",
       "<g id=\"surface1\">\n",
       "<path d=\"M 286.535156 148.027344 C 286.535156 177.699219 262.480469 201.75 232.808594 201.75 C 203.136719 201.75 179.085938 177.699219 179.085938 148.027344 C 179.085938 118.355469 203.136719 94.300781 232.808594 94.300781 C 262.480469 94.300781 286.535156 118.355469 286.535156 148.027344 Z M 286.535156 148.027344 \" style=\"fill-rule:nonzero;fill:rgb(100%,100%,100%);fill-opacity:1;stroke-width:2.865346;stroke-linecap:butt;stroke-linejoin:miter;stroke:rgb(0%,0%,0%);stroke-opacity:1;stroke-miterlimit:4;\"/>\n",
       "<path d=\"M 232.808594 94.300781 L 232.808594 201.75 \" style=\"fill:none;stroke-width:2.865346;stroke-linecap:butt;stroke-linejoin:miter;stroke:rgb(0%,0%,0%);stroke-opacity:1;stroke-miterlimit:4;\"/>\n",
       "<g style=\"fill:rgb(0%,0%,0%);fill-opacity:1;\">\n",
       "  <use x=\"247.85241\" xlink:href=\"#glyph0-0\" y=\"154.472845\"/>\n",
       "</g>\n",
       "<g style=\"fill:rgb(0%,0%,0%);fill-opacity:1;\">\n",
       "  <use x=\"194.843499\" xlink:href=\"#glyph0-1\" y=\"157.338191\"/>\n",
       "</g>\n",
       "<path d=\"M 60.171875 64.214844 L 181.617188 105.542969 \" style=\"fill:none;stroke-width:2.865346;stroke-linecap:butt;stroke-linejoin:miter;stroke:rgb(0%,0%,0%);stroke-opacity:1;stroke-miterlimit:4;\"/>\n",
       "<path d=\"M 191.789062 109.003906 L 175.917969 111.171875 L 181.617188 105.542969 L 180.53125 97.609375 Z M 191.789062 109.003906 \" style=\"fill-rule:nonzero;fill:rgb(0%,0%,0%);fill-opacity:1;stroke-width:2.865346;stroke-linecap:butt;stroke-linejoin:miter;stroke:rgb(0%,0%,0%);stroke-opacity:1;stroke-miterlimit:4;\"/>\n",
       "<path d=\"M 47.277344 150.175781 L 163.738281 148.824219 \" style=\"fill:none;stroke-width:2.865346;stroke-linecap:butt;stroke-linejoin:miter;stroke:rgb(0%,0%,0%);stroke-opacity:1;stroke-miterlimit:4;\"/>\n",
       "<path d=\"M 174.480469 148.703125 L 160.238281 156.03125 L 163.738281 148.824219 L 160.074219 141.703125 Z M 174.480469 148.703125 \" style=\"fill-rule:nonzero;fill:rgb(0%,0%,0%);fill-opacity:1;stroke-width:2.865346;stroke-linecap:butt;stroke-linejoin:miter;stroke:rgb(0%,0%,0%);stroke-opacity:1;stroke-miterlimit:4;\"/>\n",
       "<path d=\"M 60.171875 231.835938 L 181.617188 190.507812 \" style=\"fill:none;stroke-width:2.865346;stroke-linecap:butt;stroke-linejoin:miter;stroke:rgb(0%,0%,0%);stroke-opacity:1;stroke-miterlimit:4;\"/>\n",
       "<path d=\"M 191.789062 187.046875 L 180.53125 198.441406 L 181.617188 190.507812 L 175.917969 184.882812 Z M 191.789062 187.046875 \" style=\"fill-rule:nonzero;fill:rgb(0%,0%,0%);fill-opacity:1;stroke-width:2.865346;stroke-linecap:butt;stroke-linejoin:miter;stroke:rgb(0%,0%,0%);stroke-opacity:1;stroke-miterlimit:4;\"/>\n",
       "<path d=\"M 286.535156 148.027344 L 380.035156 148.648438 \" style=\"fill:none;stroke-width:2.865346;stroke-linecap:butt;stroke-linejoin:miter;stroke:rgb(0%,0%,0%);stroke-opacity:1;stroke-miterlimit:4;\"/>\n",
       "<path d=\"M 390.78125 148.71875 L 376.40625 155.789062 L 380.035156 148.648438 L 376.503906 141.460938 Z M 390.78125 148.71875 \" style=\"fill-rule:nonzero;fill:rgb(0%,0%,0%);fill-opacity:1;stroke-width:2.865346;stroke-linecap:butt;stroke-linejoin:miter;stroke:rgb(0%,0%,0%);stroke-opacity:1;stroke-miterlimit:4;\"/>\n",
       "<g style=\"fill:rgb(0%,0%,0%);fill-opacity:1;\">\n",
       "  <use x=\"97.421757\" xlink:href=\"#glyph1-0\" y=\"120.088695\"/>\n",
       "</g>\n",
       "<g style=\"fill:rgb(0%,0%,0%);fill-opacity:1;\">\n",
       "  <use x=\"96.705423\" xlink:href=\"#glyph1-0\" y=\"182.553229\"/>\n",
       "</g>\n",
       "<g style=\"fill:rgb(0%,0%,0%);fill-opacity:1;\">\n",
       "  <use x=\"97.421757\" xlink:href=\"#glyph1-0\" y=\"250.461929\"/>\n",
       "</g>\n",
       "<path d=\"M 126.074219 171.808594 L 136.246094 171.808594 L 136.246094 193.226562 L 126.074219 193.226562 Z M 126.074219 171.808594 \" style=\" stroke:none;fill-rule:nonzero;fill:rgb(100%,100%,100%);fill-opacity:1;\"/>\n",
       "<g style=\"fill:rgb(0%,0%,0%);fill-opacity:1;\">\n",
       "  <use x=\"126.075214\" xlink:href=\"#glyph2-0\" y=\"188.856994\"/>\n",
       "  <use x=\"131.154899\" xlink:href=\"#glyph2-1\" y=\"188.856994\"/>\n",
       "</g>\n",
       "<path d=\"M 126.792969 110.203125 L 155.230469 110.203125 L 155.230469 131.621094 L 126.792969 131.621094 Z M 126.792969 110.203125 \" style=\" stroke:none;fill-rule:nonzero;fill:rgb(100%,100%,100%);fill-opacity:1;\"/>\n",
       "<g style=\"fill:rgb(0%,0%,0%);fill-opacity:1;\">\n",
       "  <use x=\"126.791551\" xlink:href=\"#glyph2-0\" y=\"127.25206\"/>\n",
       "  <use x=\"131.871236\" xlink:href=\"#glyph2-1\" y=\"127.25206\"/>\n",
       "  <use x=\"136.950921\" xlink:href=\"#glyph2-2\" y=\"127.25206\"/>\n",
       "  <use x=\"143.552678\" xlink:href=\"#glyph2-3\" y=\"127.25206\"/>\n",
       "</g>\n",
       "<path d=\"M 123.925781 241.007812 L 161.175781 241.007812 L 161.175781 262.425781 L 123.925781 262.425781 Z M 123.925781 241.007812 \" style=\" stroke:none;fill-rule:nonzero;fill:rgb(100%,100%,100%);fill-opacity:1;\"/>\n",
       "<g style=\"fill:rgb(0%,0%,0%);fill-opacity:1;\">\n",
       "  <use x=\"123.926205\" xlink:href=\"#glyph2-0\" y=\"258.055077\"/>\n",
       "  <use x=\"129.00589\" xlink:href=\"#glyph2-1\" y=\"258.055077\"/>\n",
       "  <use x=\"134.085575\" xlink:href=\"#glyph2-4\" y=\"258.055077\"/>\n",
       "  <use x=\"149.434659\" xlink:href=\"#glyph2-3\" y=\"258.055077\"/>\n",
       "</g>\n",
       "<g style=\"fill:rgb(0%,0%,0%);fill-opacity:1;\">\n",
       "  <use x=\"13.610392\" xlink:href=\"#glyph1-1\" y=\"67.939411\"/>\n",
       "</g>\n",
       "<g style=\"fill:rgb(0%,0%,0%);fill-opacity:1;\">\n",
       "  <use x=\"0.716331\" xlink:href=\"#glyph1-1\" y=\"156.765126\"/>\n",
       "</g>\n",
       "<g style=\"fill:rgb(0%,0%,0%);fill-opacity:1;\">\n",
       "  <use x=\"13.610392\" xlink:href=\"#glyph1-1\" y=\"247.023509\"/>\n",
       "</g>\n",
       "<path d=\"M 35.101562 57.195312 L 58.453125 57.195312 L 58.453125 78.613281 L 35.101562 78.613281 Z M 35.101562 57.195312 \" style=\" stroke:none;fill-rule:nonzero;fill:rgb(100%,100%,100%);fill-opacity:1;\"/>\n",
       "<g style=\"fill:rgb(0%,0%,0%);fill-opacity:1;\">\n",
       "  <use x=\"35.100486\" xlink:href=\"#glyph2-1\" y=\"74.243163\"/>\n",
       "  <use x=\"40.180171\" xlink:href=\"#glyph2-2\" y=\"74.243163\"/>\n",
       "  <use x=\"46.781928\" xlink:href=\"#glyph2-3\" y=\"74.243163\"/>\n",
       "</g>\n",
       "<path d=\"M 32.234375 235.277344 L 64.398438 235.277344 L 64.398438 256.695312 L 32.234375 256.695312 Z M 32.234375 235.277344 \" style=\" stroke:none;fill-rule:nonzero;fill:rgb(100%,100%,100%);fill-opacity:1;\"/>\n",
       "<g style=\"fill:rgb(0%,0%,0%);fill-opacity:1;\">\n",
       "  <use x=\"32.23514\" xlink:href=\"#glyph2-1\" y=\"252.324385\"/>\n",
       "  <use x=\"37.314825\" xlink:href=\"#glyph2-4\" y=\"252.324385\"/>\n",
       "  <use x=\"52.663909\" xlink:href=\"#glyph2-3\" y=\"252.324385\"/>\n",
       "</g>\n",
       "<path d=\"M 23.640625 143.585938 L 28.726562 143.585938 L 28.726562 165.003906 L 23.640625 165.003906 Z M 23.640625 143.585938 \" style=\" stroke:none;fill-rule:nonzero;fill:rgb(100%,100%,100%);fill-opacity:1;\"/>\n",
       "<g style=\"fill:rgb(0%,0%,0%);fill-opacity:1;\">\n",
       "  <use x=\"23.639103\" xlink:href=\"#glyph2-1\" y=\"160.63332\"/>\n",
       "</g>\n",
       "<g style=\"fill:rgb(0%,0%,0%);fill-opacity:1;\">\n",
       "  <use x=\"320.202391\" xlink:href=\"#glyph1-2\" y=\"178.255223\"/>\n",
       "</g>\n",
       "<path d=\"M 112.980469 38.578125 L 112.921875 35.855469 L 116.523438 35.628906 L 116.585938 38.351562 Z M 112.980469 38.578125 \" style=\" stroke:none;fill-rule:nonzero;fill:rgb(0%,0%,0%);fill-opacity:1;\"/>\n",
       "<path d=\"M 112.964844 25.824219 L 112.90625 23.101562 L 116.507812 22.875 L 116.566406 25.597656 Z M 112.964844 25.824219 \" style=\" stroke:none;fill-rule:nonzero;fill:rgb(0%,0%,0%);fill-opacity:1;\"/>\n",
       "<path d=\"M 112.925781 12.960938 L 112.867188 10.238281 L 116.46875 10.011719 L 116.527344 12.734375 Z M 112.925781 12.960938 \" style=\" stroke:none;fill-rule:nonzero;fill:rgb(0%,0%,0%);fill-opacity:1;\"/>\n",
       "<path d=\"M 112.980469 38.578125 L 112.921875 35.855469 L 116.523438 35.628906 L 116.585938 38.351562 L 112.980469 38.578125 \" style=\"fill:none;stroke-width:0.0286535;stroke-linecap:round;stroke-linejoin:miter;stroke:rgb(0%,0%,0%);stroke-opacity:1;stroke-miterlimit:4;\"/>\n",
       "<path d=\"M 112.964844 25.824219 L 112.90625 23.101562 L 116.507812 22.875 L 116.566406 25.597656 L 112.964844 25.824219 \" style=\"fill:none;stroke-width:0.0286535;stroke-linecap:round;stroke-linejoin:miter;stroke:rgb(0%,0%,0%);stroke-opacity:1;stroke-miterlimit:4;\"/>\n",
       "<path d=\"M 112.925781 12.960938 L 112.867188 10.238281 L 116.46875 10.011719 L 116.527344 12.734375 L 112.925781 12.960938 \" style=\"fill:none;stroke-width:0.0286535;stroke-linecap:round;stroke-linejoin:miter;stroke:rgb(0%,0%,0%);stroke-opacity:1;stroke-miterlimit:4;\"/>\n",
       "<path d=\"M 113.699219 302.414062 L 113.640625 299.691406 L 117.242188 299.464844 L 117.300781 302.1875 Z M 113.699219 302.414062 \" style=\" stroke:none;fill-rule:nonzero;fill:rgb(0%,0%,0%);fill-opacity:1;\"/>\n",
       "<path d=\"M 113.679688 289.660156 L 113.621094 286.9375 L 117.222656 286.710938 L 117.28125 289.433594 Z M 113.679688 289.660156 \" style=\" stroke:none;fill-rule:nonzero;fill:rgb(0%,0%,0%);fill-opacity:1;\"/>\n",
       "<path d=\"M 113.640625 276.792969 L 113.582031 274.074219 L 117.183594 273.847656 L 117.246094 276.570312 Z M 113.640625 276.792969 \" style=\" stroke:none;fill-rule:nonzero;fill:rgb(0%,0%,0%);fill-opacity:1;\"/>\n",
       "<path d=\"M 113.699219 302.414062 L 113.640625 299.691406 L 117.242188 299.464844 L 117.300781 302.1875 L 113.699219 302.414062 \" style=\"fill:none;stroke-width:0.0286535;stroke-linecap:round;stroke-linejoin:miter;stroke:rgb(0%,0%,0%);stroke-opacity:1;stroke-miterlimit:4;\"/>\n",
       "<path d=\"M 113.679688 289.660156 L 113.621094 286.9375 L 117.222656 286.710938 L 117.28125 289.433594 L 113.679688 289.660156 \" style=\"fill:none;stroke-width:0.0286535;stroke-linecap:round;stroke-linejoin:miter;stroke:rgb(0%,0%,0%);stroke-opacity:1;stroke-miterlimit:4;\"/>\n",
       "<path d=\"M 113.640625 276.792969 L 113.582031 274.074219 L 117.183594 273.847656 L 117.246094 276.570312 L 113.640625 276.792969 \" style=\"fill:none;stroke-width:0.0286535;stroke-linecap:round;stroke-linejoin:miter;stroke:rgb(0%,0%,0%);stroke-opacity:1;stroke-miterlimit:4;\"/>\n",
       "</g>\n",
       "</svg>"
      ],
      "text/plain": [
       "<IPython.core.display.SVG object>"
      ]
     },
     "execution_count": 56,
     "metadata": {},
     "output_type": "execute_result"
    }
   ],
   "source": [
    "SVG(filename='img/neuron.svg')"
   ]
  },
  {
   "cell_type": "markdown",
   "metadata": {},
   "source": [
    "In each layer\n",
    "\n",
    "$a_j = \\sum_i w_{ji} x_i$\n",
    "$y_j = g(a_j)$\n",
    "\n",
    "where\n",
    "\n",
    "* $y_j$ is the $j$th output\n",
    "* $x_i$ is the $i$th input\n",
    "* $w_{ji}$ is the weight\n",
    "* $a_{j}$ is called activation\n",
    "* $g$ is the activation function, e.g. $\\tanh$ in the hidden layers and the identity in the last layer (for regression)\n",
    "\n"
   ]
  },
  {
   "cell_type": "markdown",
   "metadata": {},
   "source": [
    "# Multi Layer Perceptron"
   ]
  },
  {
   "cell_type": "code",
   "execution_count": 57,
   "metadata": {
    "collapsed": false,
    "input_collapsed": true,
    "run_control": {
     "breakpoint": false,
     "read_only": false,
     "state": "n"
    }
   },
   "outputs": [
    {
     "data": {
      "image/png": "[encoded data removed]",
      "text/plain": [
       "<IPython.core.display.Image object>"
      ]
     },
     "execution_count": 57,
     "metadata": {},
     "output_type": "execute_result"
    }
   ],
   "source": [
    "Image('img/net.png')"
   ]
  },
  {
   "cell_type": "markdown",
   "metadata": {},
   "source": [
    "## Error function\n",
    "\n",
    "$E = \\frac{1}{2} \\sum_n \\sum_j \\left( y_j^{(n)} - t_j^{(n)} \\right)^2$\n",
    "\n",
    "In each layer (we will omit the sample index $n$)\n",
    "\n",
    "$$\\delta_j = \\begin{cases}y_j - t_j & \\text{in the output layer}\\\\\\\\ g'(a_j) \\sum_k \\frac{\\partial E}{\\partial y_k} & \\text{otherwise}\\end{cases},$$\n",
    "\n",
    "$$\\frac{\\partial E}{\\partial w_{ji}} = \\delta_j x_i$$\n",
    "\n",
    "$$\\frac{\\partial E}{\\partial x_i} = \\delta_j w_{ji}$$\n",
    "\n",
    "where\n",
    "\n",
    "* all nodes $k$ are in the layer after $j$\n",
    "* $a_j$ is known from fprop: $\\sum_i w_{ji} x_i$\n",
    "* actually you do not have to save $a_j$ because $g'(a_j)$ usually can be computed from $y_j$, e.g.\n",
    "    * identity function: $g'(a_j) = 1$\n",
    "    * $\\tanh$: $g'(a_j) = 1 - y_j^2$\n",
    "* $\\frac{\\partial E^{(n)}}{\\partial w_{ji}}$ will be used to update the weight $w_{ji}$ in gradient descent\n",
    "* $\\frac{\\partial E^{(n)}}{\\partial x_i}$ will be passed to the previous layer to compute the deltas\n",
    "\n",
    "**Do not forget to sum up the gradient with respect to the weights for each training example!**"
   ]
  },
  {
   "cell_type": "code",
   "execution_count": 58,
   "metadata": {
    "collapsed": false,
    "run_control": {
     "breakpoint": false,
     "read_only": false,
     "state": "n"
    }
   },
   "outputs": [],
   "source": [
    "class NeuralNet:\n",
    "    \n",
    "    def __init__(self):\n",
    "        \"\"\"\n",
    "        Define Hyperparameters and weights.\n",
    "        \"\"\"\n",
    "        self.inputLayerSize = 2\n",
    "        self.outputLayerSize = 1\n",
    "        self.hiddenLayerSize = 3\n",
    "        \n",
    "        self.W1 = np.random.randn(self.inputLayerSize,self.hiddenLayerSize)\n",
    "        self.W2 = np.random.randn(self.hiddenLayerSize,self.outputLayerSize)\n",
    "        \n",
    "    def forward(self, X):\n",
    "        \"\"\"\n",
    "        Propogate inputs though network\n",
    "        \"\"\"\n",
    "        self.z2 = np.dot(X, self.W1)\n",
    "        self.a2 = self.sigmoid(self.z2)\n",
    "        self.z3 = np.dot(self.a2, self.W2)\n",
    "        yHat = self.sigmoid(self.z3) \n",
    "        return yHat\n",
    "        \n",
    "    def sigmoid(self, z):\n",
    "        \"\"\"\n",
    "        Apply sigmoid activation function to scalar, vector, or matrix\n",
    "        \"\"\"\n",
    "        return 1/(1+np.exp(-z))\n",
    "    \n",
    "    def sigmoidPrime(self,z):\n",
    "        \"\"\"\n",
    "        Gradient of sigmoid\n",
    "        \"\"\"\n",
    "        return np.exp(-z)/((1+np.exp(-z))**2)\n",
    "    \n",
    "    def costFunction(self, X, y):\n",
    "        \"\"\"\n",
    "        Compute cost for given X,y, use weights already stored in class.\n",
    "        \"\"\"\n",
    "        self.yHat = self.forward(X)\n",
    "        J = 0.5*sum((y-self.yHat)**2)\n",
    "        return J\n",
    "        \n",
    "    def costFunctionPrime(self, X, y):\n",
    "        \"\"\"\n",
    "        Compute derivative with respect to W and W2 for a given X and y:\n",
    "        \"\"\"\n",
    "        self.yHat = self.forward(X)\n",
    "        \n",
    "        delta3 = np.multiply(-(y-self.yHat), self.sigmoidPrime(self.z3))\n",
    "        dJdW2 = np.dot(self.a2.T, delta3)\n",
    "        \n",
    "        delta2 = np.dot(delta3, self.W2.T)*self.sigmoidPrime(self.z2)\n",
    "        dJdW1 = np.dot(X.T, delta2)  \n",
    "        \n",
    "        return dJdW1, dJdW2\n",
    "    \n",
    "    def getParams(self):\n",
    "        \"\"\"\n",
    "        Get W1 and W2 unrolled into vector:\n",
    "        \"\"\"\n",
    "        params = np.concatenate((self.W1.ravel(), self.W2.ravel()))\n",
    "        return params\n",
    "    \n",
    "    def setParams(self, params):\n",
    "        \"\"\"\n",
    "        Set W1 and W2 using single paramater vector.\n",
    "        \"\"\"\n",
    "        W1_start = 0\n",
    "        W1_end = self.hiddenLayerSize * self.inputLayerSize\n",
    "        self.W1 = np.reshape(params[W1_start:W1_end], (self.inputLayerSize , self.hiddenLayerSize))\n",
    "        W2_end = W1_end + self.hiddenLayerSize*self.outputLayerSize\n",
    "        self.W2 = np.reshape(params[W1_end:W2_end], (self.hiddenLayerSize, self.outputLayerSize))\n",
    "        \n",
    "    def computeGradients(self, X, y):\n",
    "        dJdW1, dJdW2 = self.costFunctionPrime(X, y)\n",
    "        return np.concatenate((dJdW1.ravel(), dJdW2.ravel()))"
   ]
  },
  {
   "cell_type": "markdown",
   "metadata": {},
   "source": [
    "# Seperate Training and Testing Set"
   ]
  },
  {
   "cell_type": "code",
   "execution_count": 59,
   "metadata": {
    "collapsed": true,
    "run_control": {
     "breakpoint": false,
     "read_only": false,
     "state": "n"
    }
   },
   "outputs": [],
   "source": [
    "def assign_to_set(df):\n",
    "    samples = np.random.choice(df.index,\n",
    "                               size=np.int64(np.ceil(df.index.size * 0.2)),\n",
    "                               replace=False,\n",
    "    )\n",
    "    testing  = df.ix[df.index[[samples]]]\n",
    "    training = df[df.index != df.index.isin(testing.index)]\n",
    "    return testing, training"
   ]
  },
  {
   "cell_type": "code",
   "execution_count": 60,
   "metadata": {
    "collapsed": true,
    "run_control": {
     "breakpoint": false,
     "read_only": false,
     "state": "n"
    }
   },
   "outputs": [],
   "source": [
    "testing, training = assign_to_set(df)\n",
    "\n",
    "training.to_csv('data/student_math_training.csv')\n",
    "testing.to_csv('data/student_math_test.csv')"
   ]
  },
  {
   "cell_type": "markdown",
   "metadata": {},
   "source": [
    "# Double Check Gradient"
   ]
  },
  {
   "cell_type": "code",
   "execution_count": 61,
   "metadata": {
    "collapsed": true,
    "run_control": {
     "breakpoint": false,
     "read_only": false,
     "state": "n"
    }
   },
   "outputs": [],
   "source": [
    "def computeNumericalGradient(N, X, y):\n",
    "    paramsInitial = N.getParams()\n",
    "    numgrad = np.zeros(paramsInitial.shape)\n",
    "    perturb = np.zeros(paramsInitial.shape)\n",
    "    e = 1e-4\n",
    "\n",
    "    for p in range(len(paramsInitial)):\n",
    "        #Set perturbation vector\n",
    "        perturb[p] = e\n",
    "        N.setParams(paramsInitial + perturb)\n",
    "        loss2 = N.costFunction(X, y)\n",
    "\n",
    "        N.setParams(paramsInitial - perturb)\n",
    "        loss1 = N.costFunction(X, y)\n",
    "\n",
    "        #Compute Numerical Gradient\n",
    "        numgrad[p] = (loss2 - loss1) / (2*e)\n",
    "\n",
    "        #Return the value we changed to zero:\n",
    "        perturb[p] = 0\n",
    "\n",
    "        #Return Params to original value:\n",
    "        N.setParams(paramsInitial)\n",
    "\n",
    "        return numgrad "
   ]
  },
  {
   "cell_type": "markdown",
   "metadata": {},
   "source": [
    "# Instantiate and Set Data"
   ]
  },
  {
   "cell_type": "code",
   "execution_count": 62,
   "metadata": {
    "collapsed": false,
    "run_control": {
     "breakpoint": false,
     "marked": false,
     "read_only": false,
     "state": "n"
    }
   },
   "outputs": [],
   "source": [
    "class Trainer:\n",
    "    \n",
    "    def __init__(self, N):\n",
    "        #Make Local reference to network:\n",
    "        self.N = N\n",
    "        \n",
    "    def callbackF(self, params):\n",
    "        self.N.setParams(params)\n",
    "        self.J.append(self.N.costFunction(self.X, self.y))   \n",
    "        \n",
    "    def costFunctionWrapper(self, params, X, y):\n",
    "        self.N.setParams(params)\n",
    "        cost = self.N.costFunction(X, y)\n",
    "        grad = self.N.computeGradients(X,y)\n",
    "        \n",
    "        return cost, grad\n",
    "        \n",
    "    def train(self, X, y):\n",
    "        #Make an internal variable for the callback function:\n",
    "        self.X = X\n",
    "        self.y = y\n",
    "\n",
    "        #Make empty list to store costs:\n",
    "        self.J = []\n",
    "        \n",
    "        params0 = self.N.getParams()\n",
    "\n",
    "        options = {'maxiter': 200, 'disp' : True}\n",
    "        _res = optimize.minimize(self.costFunctionWrapper, params0, jac=True, method='BFGS', args=(X, y), options=options, callback=self.callbackF)\n",
    "\n",
    "        self.N.setParams(_res.x)\n",
    "        self.optimizationResults = _res"
   ]
  },
  {
   "cell_type": "markdown",
   "metadata": {},
   "source": [
    "#Plot projections of our new data:"
   ]
  },
  {
   "cell_type": "markdown",
   "metadata": {},
   "source": [
    "# Distribution"
   ]
  },
  {
   "cell_type": "code",
   "execution_count": 63,
   "metadata": {
    "collapsed": false,
    "run_control": {
     "breakpoint": false,
     "read_only": false,
     "state": "n"
    }
   },
   "outputs": [],
   "source": [
    "trainX = np.array(training[['goout', 'studytime']])\n",
    "trainY = np.array(training[['G1']]) * 5\n",
    "\n",
    "testX = np.array(testing[['goout', 'studytime']])\n",
    "testY = np.array(testing[['G1']]) * 5"
   ]
  },
  {
   "cell_type": "code",
   "execution_count": 64,
   "metadata": {
    "collapsed": false,
    "run_control": {
     "breakpoint": false,
     "read_only": false,
     "state": "n"
    }
   },
   "outputs": [
    {
     "name": "stdout",
     "output_type": "stream",
     "text": [
      "Uh oh, an error occured on the server. \n"
     ]
    },
    {
     "ename": "PlotlyAccountError",
     "evalue": "Uh oh, an error occured on the server. ",
     "output_type": "error",
     "traceback": [
      "\u001b[0;31m---------------------------------------------------------------------------\u001b[0m",
      "\u001b[0;31mPlotlyAccountError\u001b[0m                        Traceback (most recent call last)",
      "\u001b[0;32m<ipython-input-64-e34c31ce9b07>\u001b[0m in \u001b[0;36m<module>\u001b[0;34m()\u001b[0m\n\u001b[1;32m     13\u001b[0m \u001b[0mplt\u001b[0m\u001b[0;34m.\u001b[0m\u001b[0mylabel\u001b[0m\u001b[0;34m(\u001b[0m\u001b[0;34m'Test Score'\u001b[0m\u001b[0;34m)\u001b[0m\u001b[0;34m\u001b[0m\u001b[0m\n\u001b[1;32m     14\u001b[0m \u001b[0;34m\u001b[0m\u001b[0m\n\u001b[0;32m---> 15\u001b[0;31m \u001b[0mpy\u001b[0m\u001b[0;34m.\u001b[0m\u001b[0miplot_mpl\u001b[0m\u001b[0;34m(\u001b[0m\u001b[0mfig\u001b[0m\u001b[0;34m,\u001b[0m \u001b[0mfileopt\u001b[0m\u001b[0;34m=\u001b[0m\u001b[0;34m'overwrite'\u001b[0m\u001b[0;34m,\u001b[0m \u001b[0mfilename\u001b[0m\u001b[0;34m=\u001b[0m\u001b[0;34m'nn-dataview'\u001b[0m\u001b[0;34m)\u001b[0m\u001b[0;34m\u001b[0m\u001b[0m\n\u001b[0m",
      "\u001b[0;32m/usr/local/lib/python2.7/site-packages/plotly/plotly/plotly.pyc\u001b[0m in \u001b[0;36miplot_mpl\u001b[0;34m(fig, resize, strip_style, update, **plot_options)\u001b[0m\n\u001b[1;32m    234\u001b[0m             \u001b[0;34m\"object. Run 'help(plotly.graph_objs.Figure)' for more info.\"\u001b[0m\u001b[0;34m\u001b[0m\u001b[0m\n\u001b[1;32m    235\u001b[0m         )\n\u001b[0;32m--> 236\u001b[0;31m     \u001b[0;32mreturn\u001b[0m \u001b[0miplot\u001b[0m\u001b[0;34m(\u001b[0m\u001b[0mfig\u001b[0m\u001b[0;34m,\u001b[0m \u001b[0;34m**\u001b[0m\u001b[0mplot_options\u001b[0m\u001b[0;34m)\u001b[0m\u001b[0;34m\u001b[0m\u001b[0m\n\u001b[0m\u001b[1;32m    237\u001b[0m \u001b[0;34m\u001b[0m\u001b[0m\n\u001b[1;32m    238\u001b[0m \u001b[0;34m\u001b[0m\u001b[0m\n",
      "\u001b[0;32m/usr/local/lib/python2.7/site-packages/plotly/plotly/plotly.pyc\u001b[0m in \u001b[0;36miplot\u001b[0;34m(figure_or_data, **plot_options)\u001b[0m\n\u001b[1;32m    137\u001b[0m     \u001b[0;32mif\u001b[0m \u001b[0;34m'auto_open'\u001b[0m \u001b[0;32mnot\u001b[0m \u001b[0;32min\u001b[0m \u001b[0mplot_options\u001b[0m\u001b[0;34m:\u001b[0m\u001b[0;34m\u001b[0m\u001b[0m\n\u001b[1;32m    138\u001b[0m         \u001b[0mplot_options\u001b[0m\u001b[0;34m[\u001b[0m\u001b[0;34m'auto_open'\u001b[0m\u001b[0;34m]\u001b[0m \u001b[0;34m=\u001b[0m \u001b[0mFalse\u001b[0m\u001b[0;34m\u001b[0m\u001b[0m\n\u001b[0;32m--> 139\u001b[0;31m     \u001b[0mres\u001b[0m \u001b[0;34m=\u001b[0m \u001b[0mplot\u001b[0m\u001b[0;34m(\u001b[0m\u001b[0mfigure_or_data\u001b[0m\u001b[0;34m,\u001b[0m \u001b[0;34m**\u001b[0m\u001b[0mplot_options\u001b[0m\u001b[0;34m)\u001b[0m\u001b[0;34m\u001b[0m\u001b[0m\n\u001b[0m\u001b[1;32m    140\u001b[0m     \u001b[0murlsplit\u001b[0m \u001b[0;34m=\u001b[0m \u001b[0mres\u001b[0m\u001b[0;34m.\u001b[0m\u001b[0msplit\u001b[0m\u001b[0;34m(\u001b[0m\u001b[0;34m'/'\u001b[0m\u001b[0;34m)\u001b[0m\u001b[0;34m\u001b[0m\u001b[0m\n\u001b[1;32m    141\u001b[0m     \u001b[0musername\u001b[0m\u001b[0;34m,\u001b[0m \u001b[0mplot_id\u001b[0m \u001b[0;34m=\u001b[0m \u001b[0murlsplit\u001b[0m\u001b[0;34m[\u001b[0m\u001b[0;34m-\u001b[0m\u001b[0;36m2\u001b[0m\u001b[0;34m]\u001b[0m\u001b[0;34m[\u001b[0m\u001b[0;36m1\u001b[0m\u001b[0;34m:\u001b[0m\u001b[0;34m]\u001b[0m\u001b[0;34m,\u001b[0m \u001b[0murlsplit\u001b[0m\u001b[0;34m[\u001b[0m\u001b[0;34m-\u001b[0m\u001b[0;36m1\u001b[0m\u001b[0;34m]\u001b[0m  \u001b[0;31m# TODO: HACKY!\u001b[0m\u001b[0;34m\u001b[0m\u001b[0m\n",
      "\u001b[0;32m/usr/local/lib/python2.7/site-packages/plotly/plotly/plotly.pyc\u001b[0m in \u001b[0;36mplot\u001b[0;34m(figure_or_data, validate, **plot_options)\u001b[0m\n\u001b[1;32m    196\u001b[0m         \u001b[0;32mreturn\u001b[0m \u001b[0mres\u001b[0m\u001b[0;34m[\u001b[0m\u001b[0;34m'url'\u001b[0m\u001b[0;34m]\u001b[0m\u001b[0;34m\u001b[0m\u001b[0m\n\u001b[1;32m    197\u001b[0m     \u001b[0;32melse\u001b[0m\u001b[0;34m:\u001b[0m\u001b[0;34m\u001b[0m\u001b[0m\n\u001b[0;32m--> 198\u001b[0;31m         \u001b[0;32mraise\u001b[0m \u001b[0mexceptions\u001b[0m\u001b[0;34m.\u001b[0m\u001b[0mPlotlyAccountError\u001b[0m\u001b[0;34m(\u001b[0m\u001b[0mres\u001b[0m\u001b[0;34m[\u001b[0m\u001b[0;34m'error'\u001b[0m\u001b[0;34m]\u001b[0m\u001b[0;34m)\u001b[0m\u001b[0;34m\u001b[0m\u001b[0m\n\u001b[0m\u001b[1;32m    199\u001b[0m \u001b[0;34m\u001b[0m\u001b[0m\n\u001b[1;32m    200\u001b[0m \u001b[0;34m\u001b[0m\u001b[0m\n",
      "\u001b[0;31mPlotlyAccountError\u001b[0m: Uh oh, an error occured on the server. "
     ]
    }
   ],
   "source": [
    "fig = plt.figure(0,(8,3))\n",
    "\n",
    "plt.subplot(1,2,1)\n",
    "plt.scatter(trainX[:,0], trainY)\n",
    "plt.grid(1)\n",
    "plt.xlabel('Hours Studying')\n",
    "plt.ylabel('Test Score')\n",
    "\n",
    "plt.subplot(1,2,2)\n",
    "plt.scatter(trainX[:,1], trainY)\n",
    "plt.grid(1)\n",
    "plt.xlabel('Hours Outside')\n",
    "plt.ylabel('Test Score')\n",
    "\n",
    "py.iplot_mpl(fig, fileopt='overwrite', filename='nn-dataview')"
   ]
  },
  {
   "cell_type": "markdown",
   "metadata": {},
   "source": [
    "#Normalize"
   ]
  },
  {
   "cell_type": "markdown",
   "metadata": {},
   "source": [
    "# Train network with new data:"
   ]
  },
  {
   "cell_type": "code",
   "execution_count": null,
   "metadata": {
    "collapsed": false,
    "run_control": {
     "breakpoint": false,
     "read_only": false,
     "state": "d"
    }
   },
   "outputs": [],
   "source": [
    "NN = NeuralNet()\n",
    "T  = Trainer(NN)\n",
    "\n",
    "T.train(trainX, trainY)\n",
    "\n",
    "hoursSleep = np.linspace(0, 10, 100)\n",
    "hoursStudy = np.linspace(0, 5, 100)\n",
    "\n",
    "hoursSleepNorm = hoursSleep/10.\n",
    "hoursStudyNorm = hoursStudy/5.\n",
    "\n",
    "a, b  = np.meshgrid(hoursSleepNorm, hoursStudyNorm)\n",
    "\n",
    "allInputs = np.zeros((a.size, 2))\n",
    "allInputs[:, 0] = a.ravel()\n",
    "allInputs[:, 1] = b.ravel()\n",
    "\n",
    "\n",
    "allOutputs = NN.forward(allInputs)\n",
    "\n",
    "yy = np.dot(hoursStudy.reshape(100,1), np.ones((1,100)))\n",
    "xx = np.dot(hoursSleep.reshape(100,1), np.ones((1,100))).T\n",
    "\n",
    "CS = plt.contour(xx,yy,100*allOutputs.reshape(100, 100))\n",
    "\n",
    "plt.clabel(CS, inline=1, fontsize=10)\n",
    "plt.xlabel('Hours Go Out')\n",
    "plt.ylabel('Hours Studying')\n",
    "\n",
    "fig = plt.figure()\n",
    "\n",
    "ax = fig.gca(projection='3d')\n",
    "\n",
    "surf = ax.plot_surface(\n",
    "    xx, yy,\n",
    "    100*allOutputs.reshape(100, 100),\n",
    "    cmap=plt.cm.jet,\n",
    ")\n",
    "\n",
    "ax.set_xlabel('Hours Go Out')\n",
    "ax.set_ylabel('Hours Studying')\n",
    "ax.set_zlabel('Test Score')\n",
    "\n",
    "plt.show()\n",
    "\n",
    "py.iplot(\n",
    "    Data([Surface(x=xx, y=yy,z=100*allOutputs.reshape(100, 100))]),\n",
    "    fileopt='overwrite'\n",
    "    filename='nn-gradient'\n",
    ")"
   ]
  },
  {
   "cell_type": "code",
   "execution_count": null,
   "metadata": {
    "collapsed": true,
    "run_control": {
     "breakpoint": false,
     "read_only": false,
     "state": "n"
    }
   },
   "outputs": [],
   "source": []
  },
  {
   "cell_type": "code",
   "execution_count": null,
   "metadata": {
    "collapsed": true,
    "run_control": {
     "breakpoint": false,
     "state": "n"
    }
   },
   "outputs": [],
   "source": []
  },
  {
   "cell_type": "code",
   "execution_count": null,
   "metadata": {
    "collapsed": true,
    "run_control": {
     "breakpoint": false,
     "state": "n"
    }
   },
   "outputs": [],
   "source": []
  },
  {
   "cell_type": "code",
   "execution_count": null,
   "metadata": {
    "collapsed": true,
    "run_control": {
     "breakpoint": false,
     "state": "n"
    }
   },
   "outputs": [],
   "source": []
  },
  {
   "cell_type": "code",
   "execution_count": null,
   "metadata": {
    "collapsed": true,
    "run_control": {
     "breakpoint": false,
     "state": "n"
    }
   },
   "outputs": [],
   "source": []
  },
  {
   "cell_type": "code",
   "execution_count": 65,
   "metadata": {
    "collapsed": false,
    "run_control": {
     "breakpoint": false,
     "state": "n"
    }
   },
   "outputs": [
    {
     "data": {
      "text/plain": [
       "{u'api_key': u'k7obdme0ak',\n",
       " u'stream_ids': [u'v2haf0lcy4', u'62wtxtzz5g', u'p34ps01hoo'],\n",
       " u'username': u'jjangsangy'}"
      ]
     },
     "execution_count": 65,
     "metadata": {},
     "output_type": "execute_result"
    }
   ],
   "source": [
    "py.get_credentials()"
   ]
  },
  {
   "cell_type": "code",
   "execution_count": null,
   "metadata": {
    "collapsed": true,
    "run_control": {
     "breakpoint": false,
     "state": "n"
    }
   },
   "outputs": [],
   "source": []
  }
 ],
 "metadata": {
  "gist_id": "bf2c2b7e2936f7409c7a",
  "kernelspec": {
   "display_name": "Python 2",
   "language": "python",
   "name": "python2"
  },
  "language_info": {
   "codemirror_mode": {
    "name": "ipython",
    "version": 2
   },
   "file_extension": ".py",
   "mimetype": "text/x-python",
   "name": "python",
   "nbconvert_exporter": "python",
   "pygments_lexer": "ipython2",
   "version": "2.7.10"
  }
 },
 "nbformat": 4,
 "nbformat_minor": 0
}
