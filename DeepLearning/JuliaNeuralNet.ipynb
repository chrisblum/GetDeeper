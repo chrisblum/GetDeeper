{
 "cells": [
  {
   "cell_type": "code",
   "execution_count": 3,
   "metadata": {
    "collapsed": false
   },
   "outputs": [
    {
     "ename": "LoadError",
     "evalue": "`NeuralNetwork` has no method matching NeuralNetwork()\nwhile loading In[3], in expression starting on line 1",
     "output_type": "error",
     "traceback": [
      "`NeuralNetwork` has no method matching NeuralNetwork()\nwhile loading In[3], in expression starting on line 1",
      ""
     ]
    }
   ],
   "source": [
    "type NeuralLayer\n",
    "    w::Matrix{Float64}   # weights\n",
    "    b::Vector{Float64}   # biases\n",
    "    a_func::Function     # activation function\n",
    "    a_derv::Function     # activation funciton derivative\n",
    "\n",
    "    # The following must be tracked for back propagation\n",
    "    hx::Vector{Float64}  # input values\n",
    "    pa::Vector{Float64}  # pre activation values\n",
    "    pr::Vector{Float64}  # predictions (activation values)\n",
    "    # Gradients\n",
    "    wgr::Matrix{Float64} # weight gradient\n",
    "    bgr::Vector{Float64} # bias gradient\n",
    "end"
   ]
  },
  {
   "cell_type": "code",
   "execution_count": null,
   "metadata": {
    "collapsed": true
   },
   "outputs": [],
   "source": [
    "type NeuralNetwork\n",
    "    structure::Array{Int64, 1}\n",
    "    disable_bias::Bool\n",
    "    learning_rate::Float64\n",
    "    momentum::Float64\n",
    "    initial_weight_function::Function\n",
    "    propagation_function::Function\n",
    "    derivative_propagation_function::Function\n",
    "    activation_nodes::Array{Array{Float64}, 1}\n",
    "    weights::Array{Array{Float64}, 1}\n",
    "    last_changes::Array{Array{Float64}, 1}\n",
    "    deltas::Array{Array{Float64}, 1}\n",
    "end"
   ]
  },
  {
   "cell_type": "code",
   "execution_count": null,
   "metadata": {
    "collapsed": true
   },
   "outputs": [],
   "source": [
    "function NeuralNetwork(structure::Array{Int64, 1}, disable_bias::Bool)\n",
    "    len_struct  = length(structure)\n",
    "    len_weights = length(structure) - 1\n",
    "\n",
    "    NeuralNetwork(structure,\n",
    "                  disable_bias,\n",
    "                  0.25,\n",
    "                  0.1,\n",
    "                  () -> rand(0:2000)/1000.0 - 1,\n",
    "                  (x::Float64) -> 1/(1+exp(-1*(x))),\n",
    "                  (y::Float64) -> y*(1-y),\n",
    "                  Array(Array{Float64}, len_struct),\n",
    "                  Array(Array{Float64}, len_weights),\n",
    "                  Array(Array{Float64}, len_weights),\n",
    "                  Array(Array{Float64}, 1)\n",
    "                  )\n",
    "end"
   ]
  },
  {
   "cell_type": "code",
   "execution_count": null,
   "metadata": {
    "collapsed": true
   },
   "outputs": [],
   "source": [
    "function init_network(structure::Array{Int64,1})\n",
    "    network = NeuralNetwork(structure, false)\n",
    "    init_activation_nodes(network)\n",
    "    init_weights(network)\n",
    "    init_last_changes(network)\n",
    "    return network\n",
    "end"
   ]
  },
  {
   "cell_type": "code",
   "execution_count": null,
   "metadata": {
    "collapsed": true
   },
   "outputs": [],
   "source": [
    "function init_activation_nodes(network::NeuralNetwork)\n",
    "    len = length(network.activation_nodes)\n",
    "    # for each layer in network, build 1.0 matrices\n",
    "    for i in 1:len\n",
    "        if !network.disable_bias && i < len\n",
    "            network.activation_nodes[i] = ones(network.structure[i] + 1)\n",
    "        else\n",
    "            network.activation_nodes[i] = ones(network.structure[i])\n",
    "        end\n",
    "    end\n",
    "end"
   ]
  },
  {
   "cell_type": "code",
   "execution_count": null,
   "metadata": {
    "collapsed": true
   },
   "outputs": [],
   "source": [
    "function init_weights(network::NeuralNetwork)\n",
    "    for i in 1:length(network.weights)\n",
    "        arr = Array(Float64, length(network.activation_nodes[i]), network.structure[i+1])\n",
    "\n",
    "        for j=1:length(arr)\n",
    "            arr[j] = network.initial_weight_function()\n",
    "        end\n",
    "\n",
    "        network.weights[i] = arr\n",
    "    end\n",
    "end"
   ]
  },
  {
   "cell_type": "code",
   "execution_count": null,
   "metadata": {
    "collapsed": true
   },
   "outputs": [],
   "source": [
    "function init_last_changes(network::NeuralNetwork)\n",
    "    for i in 1:length(network.last_changes)\n",
    "        network.last_changes[i] = [zeros(size(network.weights[i]))]\n",
    "    end\n",
    "end"
   ]
  },
  {
   "cell_type": "code",
   "execution_count": null,
   "metadata": {
    "collapsed": true
   },
   "outputs": [],
   "source": [
    "function train(network::NeuralNetwork, inputs::Vector{Float64}, outputs::Vector{Float64})\n",
    "    net_eval(network, inputs)\n",
    "    backpropagate(network, outputs)\n",
    "    calculate_error(network, outputs)\n",
    "end"
   ]
  },
  {
   "cell_type": "code",
   "execution_count": null,
   "metadata": {
    "collapsed": true
   },
   "outputs": [],
   "source": [
    "function net_eval(network::NeuralNetwork, inputs::Vector{Float64})\n",
    "    check_input_dimension(network, inputs)\n",
    "    if length(network.weights) == 0\n",
    "        init_network(network)\n",
    "    end\n",
    "    feedforward(network, inputs)\n",
    "    return network.activation_nodes[end]\n",
    "end"
   ]
  },
  {
   "cell_type": "code",
   "execution_count": null,
   "metadata": {
    "collapsed": true
   },
   "outputs": [],
   "source": [
    "function feedforward(network::NeuralNetwork, inputs::Vector{Float64})\n",
    "    for i in 1:length(inputs)\n",
    "        network.activation_nodes[1][i] = inputs[i]\n",
    "    end\n",
    "\n",
    "    for n in 1:length(network.weights)\n",
    "        for j in 1:network.structure[n+1]\n",
    "            s = dot(network.activation_nodes[n], network.weights[n][:, j])\n",
    "            network.activation_nodes[n+1][j] = network.propagation_function(s)\n",
    "        end\n",
    "    end\n",
    "end"
   ]
  },
  {
   "cell_type": "code",
   "execution_count": null,
   "metadata": {
    "collapsed": true
   },
   "outputs": [],
   "source": [
    "function backpropagate(network::NeuralNetwork, expected_values::Vector{Float64})\n",
    "    check_output_dimension(network, expected_values)\n",
    "    calculate_output_deltas(network, expected_values)\n",
    "    calculate_internal_deltas(network)\n",
    "    update_weights(network)\n",
    "end"
   ]
  },
  {
   "cell_type": "code",
   "execution_count": null,
   "metadata": {
    "collapsed": true
   },
   "outputs": [],
   "source": [
    "function calculate_output_deltas(network::NeuralNetwork, expected_values::Vector{Float64})\n",
    "    output_values = network.activation_nodes[end]\n",
    "    err = expected_values - output_values\n",
    "    output_deltas = Array(Float64, 1, length(err))\n",
    "    for i=1:length(err)\n",
    "        output_deltas[i] = network.derivative_propagation_function(output_values[i]) * err[i]\n",
    "    end\n",
    "    network.deltas = Array{Float64}[output_deltas]\n",
    "end"
   ]
  },
  {
   "cell_type": "code",
   "execution_count": null,
   "metadata": {
    "collapsed": true
   },
   "outputs": [],
   "source": [
    "function calculate_internal_deltas(network::NeuralNetwork)\n",
    "    prev_deltas = network.deltas[end]\n",
    "    for layer_index=2:length(network.activation_nodes)-1\n",
    "        layer_deltas = Array(Float64,1,length(network.activation_nodes[layer_index]))\n",
    "        for j=1:length(network.activation_nodes[layer_index])\n",
    "            err = 0.0\n",
    "            for k=1:network.structure[layer_index+1]\n",
    "                err += prev_deltas[k] * network.weights[layer_index][j,k]\n",
    "            end\n",
    "            layer_deltas[j] = network.derivative_propagation_function(network.activation_nodes[layer_index][j]) * err\n",
    "        end\n",
    "        unshift!(network.deltas, layer_deltas)\n",
    "    end\n",
    "end"
   ]
  },
  {
   "cell_type": "code",
   "execution_count": null,
   "metadata": {
    "collapsed": true
   },
   "outputs": [],
   "source": [
    "function update_weights(network::NeuralNetwork)\n",
    "    for n=1:length(network.weights)\n",
    "        for i=1:size(network.weights[n],1)\n",
    "            for j=:1:size(network.weights[n],2)\n",
    "                change = network.deltas[n][j] * network.activation_nodes[n][i]\n",
    "                network.weights[n][i,j] += (network.learning_rate * change + network.momentum * network.last_changes[n][i,j])\n",
    "                network.last_changes[n][i,j] = change\n",
    "            end\n",
    "        end\n",
    "    end\n",
    "end"
   ]
  },
  {
   "cell_type": "code",
   "execution_count": null,
   "metadata": {
    "collapsed": true
   },
   "outputs": [],
   "source": [
    "function calculate_error(network::NeuralNetwork, expected_output::Vector{Float64})\n",
    "    output_values = network.activation_nodes[end]\n",
    "    err = 0.0\n",
    "    diff = output_values - expected_output\n",
    "    for output_index=1:length(diff)\n",
    "        err +=\n",
    "        0.5 * diff[output_index]^2\n",
    "    end\n",
    "    return err\n",
    "end"
   ]
  },
  {
   "cell_type": "code",
   "execution_count": null,
   "metadata": {
    "collapsed": true
   },
   "outputs": [],
   "source": [
    "# TODO: throw exception here..\n",
    "function check_input_dimension(network::NeuralNetwork, inputs::Vector{Float64})\n",
    "    if length(inputs) != network.structure[1]\n",
    "        error(\"Wrong number of inputs.\\n\",\n",
    "        strcat(\"Expected: \", network.structure[1], \"\\n\"),\n",
    "        strcat(\"Received: \", length(inputs)))\n",
    "    end\n",
    "end"
   ]
  },
  {
   "cell_type": "code",
   "execution_count": 2,
   "metadata": {
    "collapsed": false
   },
   "outputs": [
    {
     "data": {
      "text/plain": [
       "check_output_dimension (generic function with 1 method)"
      ]
     },
     "execution_count": 2,
     "metadata": {},
     "output_type": "execute_result"
    }
   ],
   "source": [
    "function check_output_dimension(network::NeuralNetwork, outputs::Vector{Float64})\n",
    "    if length(outputs) != network.structure[end]\n",
    "        error(\"Wrong number of outputs.\\n\",\n",
    "        strcat(\"Expected: \", network.structure[end], \"\\n\"),\n",
    "        strcat(\"Received: \", length(outputs)))\n",
    "    end\n",
    "end"
   ]
  },
  {
   "cell_type": "code",
   "execution_count": null,
   "metadata": {
    "collapsed": true
   },
   "outputs": [],
   "source": []
  }
 ],
 "metadata": {
  "kernelspec": {
   "display_name": "Julia 0.3.9",
   "language": "julia",
   "name": "julia-0.3"
  },
  "language_info": {
   "name": "julia",
   "version": "0.3.9"
  }
 },
 "nbformat": 4,
 "nbformat_minor": 0
}
